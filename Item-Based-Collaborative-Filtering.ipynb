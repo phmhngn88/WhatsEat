{
 "cells": [
  {
   "cell_type": "code",
   "execution_count": 1,
   "metadata": {},
   "outputs": [],
   "source": [
    "#import sklearn library\n",
    "import pandas as pd\n",
    "from sklearn.metrics.pairwise import cosine_similarity"
   ]
  },
  {
   "cell_type": "code",
   "execution_count": 2,
   "metadata": {},
   "outputs": [],
   "source": [
    "#dictionary with usernames their watched web series and ratings out of 5\n",
    "\n",
    "dataset={\n",
    "        'Rahul': {'Special Ops': 5,\n",
    "                  'Criminal Justice': 3,\n",
    "                  'Panchayat': 3,\n",
    "                  'Sacred Games': 3,\n",
    "                  'Apharan': 2,\n",
    "                  'Mirzapur': 3},\n",
    "    \n",
    "        'Rishabh': {'Special Ops': 5,\n",
    "                    'Criminal Justice': 3,\n",
    "                    'Sacred Games': 5,\n",
    "                    'Panchayat':5,\n",
    "                    'Mirzapur': 3,\n",
    "                    'Apharan': 3},\n",
    "    \n",
    "        'Sonali': {'Special Ops': 2,\n",
    "                   'Panchayat': 5,\n",
    "                   'Sacred Games': 3,\n",
    "                   'Mirzapur': 4},\n",
    "    \n",
    "        'Ritvik': {'Panchayat': 5,\n",
    "                   'Mirzapur': 4,\n",
    "                   'Sacred Games': 4,},\n",
    "    \n",
    "       'Harshita': {'Special Ops': 4,\n",
    "                    'Criminal Justice': 4,\n",
    "                    'Panchayat': 4,\n",
    "                    'Mirzapur': 3,\n",
    "                    'Apharan': 2},\n",
    "    \n",
    "       'Shubhi': {'Special Ops': 3,\n",
    "                  'Panchayat': 4,\n",
    "                  'Mirzapur': 3,\n",
    "                  'Sacred Games': 5,\n",
    "                  'Apharan': 3},\n",
    "    \n",
    "      'Shaurya': {'Panchayat':4,\n",
    "                  'Apharan':1,\n",
    "                  'Sacred Games':4}}"
   ]
  },
  {
   "cell_type": "code",
   "execution_count": 3,
   "metadata": {},
   "outputs": [
    {
     "data": {
      "text/html": [
       "<div>\n",
       "<style scoped>\n",
       "    .dataframe tbody tr th:only-of-type {\n",
       "        vertical-align: middle;\n",
       "    }\n",
       "\n",
       "    .dataframe tbody tr th {\n",
       "        vertical-align: top;\n",
       "    }\n",
       "\n",
       "    .dataframe thead th {\n",
       "        text-align: right;\n",
       "    }\n",
       "</style>\n",
       "<table border=\"1\" class=\"dataframe\">\n",
       "  <thead>\n",
       "    <tr style=\"text-align: right;\">\n",
       "      <th></th>\n",
       "      <th>Rahul</th>\n",
       "      <th>Rishabh</th>\n",
       "      <th>Sonali</th>\n",
       "      <th>Ritvik</th>\n",
       "      <th>Harshita</th>\n",
       "      <th>Shubhi</th>\n",
       "      <th>Shaurya</th>\n",
       "    </tr>\n",
       "  </thead>\n",
       "  <tbody>\n",
       "    <tr>\n",
       "      <th>Special Ops</th>\n",
       "      <td>5</td>\n",
       "      <td>5</td>\n",
       "      <td>2</td>\n",
       "      <td>Not Seen Yet</td>\n",
       "      <td>4</td>\n",
       "      <td>3</td>\n",
       "      <td>Not Seen Yet</td>\n",
       "    </tr>\n",
       "    <tr>\n",
       "      <th>Criminal Justice</th>\n",
       "      <td>3</td>\n",
       "      <td>3</td>\n",
       "      <td>Not Seen Yet</td>\n",
       "      <td>Not Seen Yet</td>\n",
       "      <td>4</td>\n",
       "      <td>Not Seen Yet</td>\n",
       "      <td>Not Seen Yet</td>\n",
       "    </tr>\n",
       "    <tr>\n",
       "      <th>Panchayat</th>\n",
       "      <td>3</td>\n",
       "      <td>5</td>\n",
       "      <td>5</td>\n",
       "      <td>5</td>\n",
       "      <td>4</td>\n",
       "      <td>4</td>\n",
       "      <td>4</td>\n",
       "    </tr>\n",
       "    <tr>\n",
       "      <th>Sacred Games</th>\n",
       "      <td>3</td>\n",
       "      <td>5</td>\n",
       "      <td>3</td>\n",
       "      <td>4</td>\n",
       "      <td>Not Seen Yet</td>\n",
       "      <td>5</td>\n",
       "      <td>4</td>\n",
       "    </tr>\n",
       "    <tr>\n",
       "      <th>Apharan</th>\n",
       "      <td>2</td>\n",
       "      <td>3</td>\n",
       "      <td>Not Seen Yet</td>\n",
       "      <td>Not Seen Yet</td>\n",
       "      <td>2</td>\n",
       "      <td>3</td>\n",
       "      <td>1</td>\n",
       "    </tr>\n",
       "    <tr>\n",
       "      <th>Mirzapur</th>\n",
       "      <td>3</td>\n",
       "      <td>3</td>\n",
       "      <td>4</td>\n",
       "      <td>4</td>\n",
       "      <td>3</td>\n",
       "      <td>3</td>\n",
       "      <td>Not Seen Yet</td>\n",
       "    </tr>\n",
       "  </tbody>\n",
       "</table>\n",
       "</div>"
      ],
      "text/plain": [
       "                  Rahul  Rishabh        Sonali        Ritvik      Harshita  \\\n",
       "Special Ops           5        5             2  Not Seen Yet             4   \n",
       "Criminal Justice      3        3  Not Seen Yet  Not Seen Yet             4   \n",
       "Panchayat             3        5             5             5             4   \n",
       "Sacred Games          3        5             3             4  Not Seen Yet   \n",
       "Apharan               2        3  Not Seen Yet  Not Seen Yet             2   \n",
       "Mirzapur              3        3             4             4             3   \n",
       "\n",
       "                        Shubhi       Shaurya  \n",
       "Special Ops                  3  Not Seen Yet  \n",
       "Criminal Justice  Not Seen Yet  Not Seen Yet  \n",
       "Panchayat                    4             4  \n",
       "Sacred Games                 5             4  \n",
       "Apharan                      3             1  \n",
       "Mirzapur                     3  Not Seen Yet  "
      ]
     },
     "execution_count": 3,
     "metadata": {},
     "output_type": "execute_result"
    }
   ],
   "source": [
    "#create a data frame of this dataset\n",
    "dataset_df=pd.DataFrame(dataset)\n",
    "dataset_df.fillna(\"Not Seen Yet\",inplace=True)\n",
    "dataset_df"
   ]
  },
  {
   "cell_type": "code",
   "execution_count": 4,
   "metadata": {},
   "outputs": [],
   "source": [
    "# custom function to create unique set of web series\n",
    "\n",
    "def unique_items():\n",
    "    unique_items_list = []\n",
    "    for person in dataset.keys():\n",
    "        for items in dataset[person]:\n",
    "            unique_items_list.append(items)\n",
    "    s=set(unique_items_list)\n",
    "    unique_items_list=list(s)\n",
    "    return unique_items_list"
   ]
  },
  {
   "cell_type": "code",
   "execution_count": 5,
   "metadata": {},
   "outputs": [
    {
     "data": {
      "text/plain": [
       "['Apharan',\n",
       " 'Sacred Games',\n",
       " 'Special Ops',\n",
       " 'Panchayat',\n",
       " 'Criminal Justice',\n",
       " 'Mirzapur']"
      ]
     },
     "execution_count": 5,
     "metadata": {},
     "output_type": "execute_result"
    }
   ],
   "source": [
    "unique_items()"
   ]
  },
  {
   "cell_type": "code",
   "execution_count": 20,
   "metadata": {},
   "outputs": [],
   "source": [
    "def item_similarity(item1,item2):\n",
    "    both_rated = {}\n",
    "    for person in dataset.keys():\n",
    "        if item1 in dataset[person] and item2 in dataset[person]:\n",
    "            both_rated[person] = [dataset[person][item1],dataset[person][item2]]\n",
    "\n",
    "    #print(both_rated)\n",
    "    number_of_ratings = len(both_rated)\n",
    "    if number_of_ratings == 0:\n",
    "        return 0\n",
    "\n",
    "    item1_ratings = [[dataset[k][item1] for k,v in both_rated.items() if item1 in dataset[k] and item2 in dataset[k]]]\n",
    "    item2_ratings = [[dataset[k][item2] for k, v in both_rated.items() if item1 in dataset[k] and item2 in dataset[k]]]\n",
    "    #print(\"{} ratings :: {}\".format(item1,item1_ratings))\n",
    "    #print(\"{} ratings :: {}\".format(item2,item2_ratings))\n",
    "    cs = cosine_similarity(item1_ratings,item2_ratings)\n",
    "    return cs[0][0]"
   ]
  },
  {
   "cell_type": "code",
   "execution_count": 21,
   "metadata": {},
   "outputs": [
    {
     "name": "stdout",
     "output_type": "stream",
     "text": [
      "Cosine Similarity: 0.9805806756909202\n"
     ]
    }
   ],
   "source": [
    "print(\"Cosine Similarity:\",item_similarity(\"Mirzapur\",\"Apharan\"))"
   ]
  },
  {
   "cell_type": "code",
   "execution_count": 22,
   "metadata": {},
   "outputs": [],
   "source": [
    "#custom function to check most similar items \n",
    "\n",
    "def most_similar_items(target_item):\n",
    "    un_lst=unique_items()\n",
    "    scores = [(item_similarity(target_item,other_item),target_item+\" --> \"+other_item) for other_item in un_lst if other_item!=target_item]\n",
    "    scores.sort(reverse=True)\n",
    "    return scores"
   ]
  },
  {
   "cell_type": "code",
   "execution_count": 23,
   "metadata": {},
   "outputs": [
    {
     "name": "stdout",
     "output_type": "stream",
     "text": [
      "[(0.990830168044299, 'Panchayat --> Mirzapur'), (0.9749005254295223, 'Panchayat --> Sacred Games'), (0.9701425001453318, 'Panchayat --> Criminal Justice'), (0.9563650695950073, 'Panchayat --> Apharan'), (0.9199418174856335, 'Panchayat --> Special Ops')]\n"
     ]
    }
   ],
   "source": [
    "print(most_similar_items('Panchayat'))"
   ]
  },
  {
   "cell_type": "code",
   "execution_count": 24,
   "metadata": {},
   "outputs": [],
   "source": [
    "#custom function to filter the seen movies and unseen movies of the target user\n",
    "\n",
    "def target_movies_to_users(target_person):\n",
    "    target_person_movie_lst = []\n",
    "    unique_list =unique_items()\n",
    "    for movies in dataset[target_person]:\n",
    "        target_person_movie_lst.append(movies)\n",
    "\n",
    "    s=set(unique_list)\n",
    "    recommended_movies=list(s.difference(target_person_movie_lst))\n",
    "    a = len(recommended_movies)\n",
    "    if a == 0:\n",
    "        return 0\n",
    "    return recommended_movies,target_person_movie_lst"
   ]
  },
  {
   "cell_type": "code",
   "execution_count": 25,
   "metadata": {},
   "outputs": [
    {
     "data": {
      "text/html": [
       "<div>\n",
       "<style scoped>\n",
       "    .dataframe tbody tr th:only-of-type {\n",
       "        vertical-align: middle;\n",
       "    }\n",
       "\n",
       "    .dataframe tbody tr th {\n",
       "        vertical-align: top;\n",
       "    }\n",
       "\n",
       "    .dataframe thead th {\n",
       "        text-align: right;\n",
       "    }\n",
       "</style>\n",
       "<table border=\"1\" class=\"dataframe\">\n",
       "  <thead>\n",
       "    <tr style=\"text-align: right;\">\n",
       "      <th></th>\n",
       "      <th>Unseen Movies</th>\n",
       "      <th>Seen Movies</th>\n",
       "    </tr>\n",
       "  </thead>\n",
       "  <tbody>\n",
       "    <tr>\n",
       "      <th>0</th>\n",
       "      <td>Apharan</td>\n",
       "      <td>Panchayat</td>\n",
       "    </tr>\n",
       "    <tr>\n",
       "      <th>1</th>\n",
       "      <td>Special Ops</td>\n",
       "      <td>Mirzapur</td>\n",
       "    </tr>\n",
       "    <tr>\n",
       "      <th>2</th>\n",
       "      <td>Criminal Justice</td>\n",
       "      <td>Sacred Games</td>\n",
       "    </tr>\n",
       "  </tbody>\n",
       "</table>\n",
       "</div>"
      ],
      "text/plain": [
       "      Unseen Movies   Seen Movies\n",
       "0           Apharan     Panchayat\n",
       "1       Special Ops      Mirzapur\n",
       "2  Criminal Justice  Sacred Games"
      ]
     },
     "execution_count": 25,
     "metadata": {},
     "output_type": "execute_result"
    }
   ],
   "source": [
    "# function check\n",
    "\n",
    "unseen_movies,seen_movies=target_movies_to_users('Ritvik')\n",
    "\n",
    "dct = {\"Unseen Movies\":unseen_movies,\"Seen Movies\":seen_movies}\n",
    "pd.DataFrame(dct)"
   ]
  },
  {
   "cell_type": "code",
   "execution_count": 30,
   "metadata": {},
   "outputs": [],
   "source": [
    "def recommendation_phase(target_person):\n",
    "    if target_movies_to_users(target_person=target_person) == 0:\n",
    "        print(target_person, \"has seen all the movies\")\n",
    "        return -1\n",
    "    not_seen_movies,seen_movies=target_movies_to_users(target_person=target_person)\n",
    "    seen_ratings = [[dataset[target_person][movies],movies] for movies in dataset[target_person]]\n",
    "    weighted_avg,weighted_sim = 0,0\n",
    "    rankings =[]\n",
    "    for i in not_seen_movies:\n",
    "        for rate,movie in seen_ratings:\n",
    "            item_sim=item_similarity(i,movie)\n",
    "            weighted_avg +=(item_sim*rate)\n",
    "            weighted_sim +=item_sim\n",
    "        weighted_rank=weighted_avg/weighted_sim\n",
    "        rankings.append([weighted_rank,i])\n",
    "\n",
    "    rankings.sort(reverse=True)\n",
    "    return rankings"
   ]
  },
  {
   "cell_type": "code",
   "execution_count": 32,
   "metadata": {},
   "outputs": [
    {
     "name": "stdout",
     "output_type": "stream",
     "text": [
      "Enter the target person\n",
      "Shaurya\n",
      "Recommendation Using Item based Collaborative Filtering:  \n",
      "Criminal Justice  --->  2.99513159668599\n",
      "Mirzapur  --->  2.9879643521942247\n",
      "Special Ops  --->  2.9820527177130316\n"
     ]
    }
   ],
   "source": [
    "print(\"Enter the target person\")\n",
    "tp = input().title()\n",
    "if tp in dataset.keys():\n",
    "    a=recommendation_phase(tp)\n",
    "    if a != -1:\n",
    "        print(\"Recommendation Using Item based Collaborative Filtering:  \")\n",
    "        for w,m in a:\n",
    "            print(m,\" ---> \",w)\n",
    "else:\n",
    "    print(\"Person not found in the dataset..please try again\")"
   ]
  },
  {
   "cell_type": "code",
   "execution_count": null,
   "metadata": {},
   "outputs": [],
   "source": []
  },
  {
   "cell_type": "code",
   "execution_count": null,
   "metadata": {},
   "outputs": [],
   "source": []
  }
 ],
 "metadata": {
  "kernelspec": {
   "display_name": "Python 3",
   "language": "python",
   "name": "python3"
  },
  "language_info": {
   "codemirror_mode": {
    "name": "ipython",
    "version": 3
   },
   "file_extension": ".py",
   "mimetype": "text/x-python",
   "name": "python",
   "nbconvert_exporter": "python",
   "pygments_lexer": "ipython3",
   "version": "3.8.5"
  }
 },
 "nbformat": 4,
 "nbformat_minor": 4
}
